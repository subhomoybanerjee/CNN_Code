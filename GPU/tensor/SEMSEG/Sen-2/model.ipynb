version https://git-lfs.github.com/spec/v1
oid sha256:8fc7a336db3571113031b4dbd6537b71bcdd7f031f3e05bd7ba5fb54cc50f301
size 1120788
