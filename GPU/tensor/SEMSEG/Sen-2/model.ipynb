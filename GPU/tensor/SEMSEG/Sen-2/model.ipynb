version https://git-lfs.github.com/spec/v1
oid sha256:ee5a3190c4a7fa6a544b4fc64187156989c913191b0f4e487fd650eb876fa3a1
size 510000
