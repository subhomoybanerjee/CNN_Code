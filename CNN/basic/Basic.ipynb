version https://git-lfs.github.com/spec/v1
oid sha256:7ded65e791996de858c25d477b43008166cfb8d6cc587c7e39556d9bcfb91c87
size 2829755
