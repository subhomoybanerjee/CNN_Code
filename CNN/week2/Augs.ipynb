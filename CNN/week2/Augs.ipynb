version https://git-lfs.github.com/spec/v1
oid sha256:a9ec9b63cfc3d1811daddcfe726384c5f17d34a29a1be5adad70197e289e8c26
size 12455
